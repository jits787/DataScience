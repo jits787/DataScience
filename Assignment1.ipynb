{
 "cells": [
  {
   "cell_type": "markdown",
   "id": "5baa21eb-8623-4e96-821c-d91f6ab5d882",
   "metadata": {},
   "source": [
    "## Assignmen-1"
   ]
  },
  {
   "cell_type": "markdown",
   "id": "abf9e3d1-5d6c-4629-aca4-425279bec520",
   "metadata": {},
   "source": [
    "#### Celsius temperature and print equivalent Fahrenheit"
   ]
  },
  {
   "cell_type": "code",
   "execution_count": 6,
   "id": "eda3ae78-ed35-4661-a74c-efb4d5e016e5",
   "metadata": {},
   "outputs": [
    {
     "name": "stdin",
     "output_type": "stream",
     "text": [
      "Enter temperature in Celsius 23\n"
     ]
    },
    {
     "name": "stdout",
     "output_type": "stream",
     "text": [
      "Temperature in Fahrenheit is : 73.4\n"
     ]
    }
   ],
   "source": [
    "C = float(input(\"Enter temperature in Celsius\"))\n",
    "F = (9 / 5) * C + 32\n",
    "print(\"Temperature in Fahrenheit is :\", F)"
   ]
  },
  {
   "cell_type": "markdown",
   "id": "71703c2c-57a9-4952-b875-d820c7ee0f63",
   "metadata": {},
   "source": [
    "####  Perimeter from radius"
   ]
  },
  {
   "cell_type": "code",
   "execution_count": 7,
   "id": "960cd145-7d0c-4052-8eea-720b739d794d",
   "metadata": {},
   "outputs": [
    {
     "name": "stdin",
     "output_type": "stream",
     "text": [
      "Enter radius 23\n"
     ]
    },
    {
     "name": "stdout",
     "output_type": "stream",
     "text": [
      "Perimeter is : 73.4\n"
     ]
    }
   ],
   "source": [
    "import math \n",
    "R = float(input(\"Enter radius\"))\n",
    "P = 2* math.pi *R\n",
    "print(\"Perimeter is :\", F)"
   ]
  },
  {
   "cell_type": "markdown",
   "id": "468d884a-3d70-40ef-96f2-056ec0ebc0ba",
   "metadata": {},
   "source": [
    "####  Amount and Percentage"
   ]
  },
  {
   "cell_type": "code",
   "execution_count": 17,
   "id": "a22e35fb-9428-401e-a1d1-085d24d3f41e",
   "metadata": {},
   "outputs": [
    {
     "name": "stdin",
     "output_type": "stream",
     "text": [
      "Enter Amount and Interest:  123 12\n"
     ]
    },
    {
     "data": {
      "text/plain": [
       "137.76"
      ]
     },
     "execution_count": 17,
     "metadata": {},
     "output_type": "execute_result"
    }
   ],
   "source": [
    "a, p = input(\"Enter Amount and Interest: \").split()\n",
    "na = float(a) + float(a) * float(p) / 100\n",
    "na"
   ]
  },
  {
   "cell_type": "markdown",
   "id": "7b818209-3924-4873-9ebd-338a84837a3e",
   "metadata": {},
   "source": [
    "#### Convert meters into centimeters,inches, and yards"
   ]
  },
  {
   "cell_type": "code",
   "execution_count": null,
   "id": "ae01c54e-d620-4d50-b068-d1beddf58633",
   "metadata": {},
   "outputs": [],
   "source": [
    "M = float(input(\"Enter ditance to meter\"))\n",
    "C = M * 100\n",
    "I = 39.36 * M\n",
    "Y = 1.0936 * M\n",
    "print(\"centimeters is {} , Inches is {} and Yard is {}\".format(C,I,Y))\n"
   ]
  },
  {
   "cell_type": "code",
   "execution_count": null,
   "id": "fc38f38c-0d8b-4fa7-bace-9be1b95bbd5a",
   "metadata": {},
   "outputs": [],
   "source": [
    "#### Calculate profit or loss."
   ]
  },
  {
   "cell_type": "code",
   "execution_count": 45,
   "id": "1b3d6043-a736-49b2-b5f9-29e7a64086f6",
   "metadata": {},
   "outputs": [
    {
     "name": "stdin",
     "output_type": "stream",
     "text": [
      "Enter Actual  price:  43\n",
      "Enter Selling  price:  12\n"
     ]
    },
    {
     "name": "stdout",
     "output_type": "stream",
     "text": [
      "Loss is: 31.0\n"
     ]
    }
   ],
   "source": [
    "a  = float(input(\"Enter Actual  price: \"))\n",
    "s = float(input(\"Enter Selling  price: \"))\n",
    "if a>s :\n",
    "    print('Loss is:', a - s)\n",
    "else: \n",
    "    print('Profit is:', s - a)"
   ]
  },
  {
   "cell_type": "markdown",
   "id": "f1f89331-ba69-4dfe-90a7-2c8c7f5ce7da",
   "metadata": {},
   "source": [
    "#### Calculate Gross Salary"
   ]
  },
  {
   "cell_type": "code",
   "execution_count": 56,
   "id": "b83f455a-b099-48ff-afb5-08f14c20c9d7",
   "metadata": {},
   "outputs": [
    {
     "name": "stdin",
     "output_type": "stream",
     "text": [
      "Enter Basic  Salary:  25345\n"
     ]
    },
    {
     "name": "stdout",
     "output_type": "stream",
     "text": [
      "49422.75\n"
     ]
    }
   ],
   "source": [
    "BS = float(input(\"Enter Basic  Salary: \"))\n",
    "DA = BS * 75 /100\n",
    "HRA= BS * 20 /100\n",
    "if BS < 10000:\n",
    "    GS = BS + DA \n",
    "elif (BS >= 10000) and (BS < 20000):\n",
    "    GS = BS + DA + HRA * 50/100\n",
    "else: \n",
    "    GS = BS + DA + HRA\n",
    "print(GS)\n"
   ]
  },
  {
   "cell_type": "markdown",
   "id": "812a3974-7c04-4cc0-9a62-e9be61bb7454",
   "metadata": {},
   "source": [
    "#### Factorial of number"
   ]
  },
  {
   "cell_type": "code",
   "execution_count": 1,
   "id": "d7fd2940-d0ea-4a92-86b0-bdd948c4a2ea",
   "metadata": {},
   "outputs": [
    {
     "name": "stdin",
     "output_type": "stream",
     "text": [
      "Enter a number:  5\n"
     ]
    },
    {
     "name": "stdout",
     "output_type": "stream",
     "text": [
      "Factorial of No is: 120\n"
     ]
    }
   ],
   "source": [
    "n = int(input(\"Enter a number: \"))\n",
    "if n < 0:\n",
    "        fact = 0\n",
    "elif (n == 0) or (n == 1):\n",
    "        fact = 1\n",
    "else:\n",
    "        fact = 1\n",
    "        while(n > 1):\n",
    "            fact *= n\n",
    "            n -= 1\n",
    "            \n",
    "print('Factorial of No is:',fact)"
   ]
  },
  {
   "cell_type": "markdown",
   "id": "f41a0f06-cd6b-41a9-9e2d-198f7255d660",
   "metadata": {},
   "source": [
    "#### Addition of number in range"
   ]
  },
  {
   "cell_type": "code",
   "execution_count": 78,
   "id": "b4ae021d-776d-485b-a2d1-370b6e07beed",
   "metadata": {},
   "outputs": [
    {
     "name": "stdin",
     "output_type": "stream",
     "text": [
      "Enter First number: 1\n",
      "Enter Last number:  4\n"
     ]
    },
    {
     "name": "stdout",
     "output_type": "stream",
     "text": [
      "Sum of range is: 10\n"
     ]
    }
   ],
   "source": [
    "f = int(input(\"Enter First number:\"))\n",
    "l = int(input(\"Enter Last number: \"))\n",
    "sum = 0\n",
    "for x in range(f, l+1):\n",
    "    sum = sum + x\n",
    "print('Sum of range is:', sum)"
   ]
  },
  {
   "cell_type": "markdown",
   "id": "a4d921c3-d4ee-442f-b306-0df96a95a1aa",
   "metadata": {},
   "source": [
    "#### Tuple split to Odd Even lists"
   ]
  },
  {
   "cell_type": "code",
   "execution_count": 97,
   "id": "f8d8740a-edf8-42c9-a8c2-19dbb2853b70",
   "metadata": {},
   "outputs": [
    {
     "name": "stdout",
     "output_type": "stream",
     "text": [
      "List even [56, 2, 48, 32, 56, 68]\n",
      "List odd [35, 41, 43, 71, 55]\n"
     ]
    }
   ],
   "source": [
    "num = (56,2,35,41,43,48,32,56,71,55,68)\n",
    "even =[]\n",
    "odd =[]\n",
    "for x in num:\n",
    "    if (x % 2) == 0:\n",
    "        even.append(x)\n",
    "    else:\n",
    "        odd.append(x)\n",
    "\n",
    "print('List even', even)\n",
    "print('List odd', odd)"
   ]
  },
  {
   "cell_type": "markdown",
   "id": "88888924-3742-45c0-94ff-e9b12cd36bf3",
   "metadata": {},
   "source": [
    "#### ODD / Even User define function"
   ]
  },
  {
   "cell_type": "code",
   "execution_count": 104,
   "id": "3db7c848-f828-4618-856b-341034c4fafb",
   "metadata": {},
   "outputs": [
    {
     "name": "stdin",
     "output_type": "stream",
     "text": [
      "enter a number 3\n"
     ]
    },
    {
     "name": "stdout",
     "output_type": "stream",
     "text": [
      "Number is odd\n"
     ]
    }
   ],
   "source": [
    "def Odd_Even(x):\n",
    "    if x==0:\n",
    "        print('Number is Zero')\n",
    "    elif x%2==0:\n",
    "        print('Number is Even')\n",
    "    else:\n",
    "         print('Number is odd')\n",
    "\n",
    "num = int(input('enter a number'))\n",
    "Odd_Even(num)\n",
    "                    "
   ]
  },
  {
   "cell_type": "markdown",
   "id": "8df9fb93-8ef3-4c1a-aceb-948bca3f7af8",
   "metadata": {},
   "source": [
    "#### Square root, sin, tan, log and factorial of  number"
   ]
  },
  {
   "cell_type": "code",
   "execution_count": 109,
   "id": "7bb8e296-eb47-4907-ac9d-285577eb9d96",
   "metadata": {},
   "outputs": [
    {
     "name": "stdin",
     "output_type": "stream",
     "text": [
      "Enter Number 5\n"
     ]
    },
    {
     "name": "stdout",
     "output_type": "stream",
     "text": [
      "\n",
      "Square Root is 2.23606797749979\n",
      "Sine is -0.9589242746631385\n",
      "Tan is -3.380515006246586\n",
      "Log is 1.6094379124341003\n",
      "Factorial is 120\n"
     ]
    }
   ],
   "source": [
    "import math\n",
    "num = int(input('Enter Number'))\n",
    "print('')\n",
    "print('Square Root is', math.sqrt(num))\n",
    "print('Sine is', math.sin(num))\n",
    "print('Tan is', math.tan(num))\n",
    "print('Log is', math.log(num))\n",
    "print('Factorial is', math.factorial(num))"
   ]
  },
  {
   "cell_type": "markdown",
   "id": "6e5b51ff-05dd-4e5d-83b2-a1fb63a0c6bf",
   "metadata": {},
   "source": [
    "#### Class Rectangle"
   ]
  },
  {
   "cell_type": "code",
   "execution_count": 131,
   "id": "1e433706-52d9-47e6-a75a-240a0bde7bac",
   "metadata": {},
   "outputs": [
    {
     "name": "stdin",
     "output_type": "stream",
     "text": [
      "Enter a length:  4\n",
      "Enter a width:  5\n"
     ]
    },
    {
     "name": "stdout",
     "output_type": "stream",
     "text": [
      "Area: 20\n"
     ]
    }
   ],
   "source": [
    "class rectangle:\n",
    "    def __init__(self, l, w):\n",
    "        self.length = l\n",
    "        self.width = w\n",
    "\n",
    "    def area(self):\n",
    "        return self.length * self.width\n",
    "         \n",
    "l1 = int(input(\"Enter a length: \"))   \n",
    "w1 = int(input(\"Enter a width: \"))\n",
    "newRectangle = rectangle(l1, w1)\n",
    "print('Area:',newRectangle.area())\n"
   ]
  },
  {
   "cell_type": "code",
   "execution_count": null,
   "id": "b0c2471a-3429-42ee-9322-05f3c8d655de",
   "metadata": {},
   "outputs": [],
   "source": []
  }
 ],
 "metadata": {
  "kernelspec": {
   "display_name": "Python 3 (ipykernel)",
   "language": "python",
   "name": "python3"
  },
  "language_info": {
   "codemirror_mode": {
    "name": "ipython",
    "version": 3
   },
   "file_extension": ".py",
   "mimetype": "text/x-python",
   "name": "python",
   "nbconvert_exporter": "python",
   "pygments_lexer": "ipython3",
   "version": "3.12.4"
  }
 },
 "nbformat": 4,
 "nbformat_minor": 5
}

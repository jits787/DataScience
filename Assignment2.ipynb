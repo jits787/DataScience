{
 "cells": [
  {
   "cell_type": "markdown",
   "id": "3bd8bece-0cd3-4af4-bb65-074385472c2f",
   "metadata": {},
   "source": [
    "#### Read the file in DataFrame"
   ]
  },
  {
   "cell_type": "code",
   "execution_count": 16,
   "id": "b1f13734-8fc6-4abf-babd-5d726330119e",
   "metadata": {},
   "outputs": [
    {
     "data": {
      "text/html": [
       "<div>\n",
       "<style scoped>\n",
       "    .dataframe tbody tr th:only-of-type {\n",
       "        vertical-align: middle;\n",
       "    }\n",
       "\n",
       "    .dataframe tbody tr th {\n",
       "        vertical-align: top;\n",
       "    }\n",
       "\n",
       "    .dataframe thead th {\n",
       "        text-align: right;\n",
       "    }\n",
       "</style>\n",
       "<table border=\"1\" class=\"dataframe\">\n",
       "  <thead>\n",
       "    <tr style=\"text-align: right;\">\n",
       "      <th></th>\n",
       "      <th>sr.no</th>\n",
       "      <th>name</th>\n",
       "      <th>matches</th>\n",
       "      <th>runs</th>\n",
       "      <th>catches</th>\n",
       "      <th>wickets</th>\n",
       "      <th>stumpings</th>\n",
       "    </tr>\n",
       "  </thead>\n",
       "  <tbody>\n",
       "    <tr>\n",
       "      <th>0</th>\n",
       "      <td>1</td>\n",
       "      <td>Anil Dalpat</td>\n",
       "      <td>122</td>\n",
       "      <td>6755</td>\n",
       "      <td>56</td>\n",
       "      <td>12</td>\n",
       "      <td>0</td>\n",
       "    </tr>\n",
       "    <tr>\n",
       "      <th>1</th>\n",
       "      <td>2</td>\n",
       "      <td>Rohan Kanhay</td>\n",
       "      <td>144</td>\n",
       "      <td>1256</td>\n",
       "      <td>76</td>\n",
       "      <td>178</td>\n",
       "      <td>0</td>\n",
       "    </tr>\n",
       "    <tr>\n",
       "      <th>2</th>\n",
       "      <td>3</td>\n",
       "      <td>Avdhoot Dighe</td>\n",
       "      <td>265</td>\n",
       "      <td>8954</td>\n",
       "      <td>120</td>\n",
       "      <td>0</td>\n",
       "      <td>0</td>\n",
       "    </tr>\n",
       "    <tr>\n",
       "      <th>3</th>\n",
       "      <td>4</td>\n",
       "      <td>Bahubali</td>\n",
       "      <td>10</td>\n",
       "      <td>756</td>\n",
       "      <td>6</td>\n",
       "      <td>11</td>\n",
       "      <td>3</td>\n",
       "    </tr>\n",
       "    <tr>\n",
       "      <th>4</th>\n",
       "      <td>5</td>\n",
       "      <td>Leeladhar</td>\n",
       "      <td>234</td>\n",
       "      <td>2866</td>\n",
       "      <td>105</td>\n",
       "      <td>376</td>\n",
       "      <td>0</td>\n",
       "    </tr>\n",
       "    <tr>\n",
       "      <th>5</th>\n",
       "      <td>6</td>\n",
       "      <td>Pradyumna</td>\n",
       "      <td>177</td>\n",
       "      <td>5877</td>\n",
       "      <td>47</td>\n",
       "      <td>122</td>\n",
       "      <td>0</td>\n",
       "    </tr>\n",
       "    <tr>\n",
       "      <th>6</th>\n",
       "      <td>7</td>\n",
       "      <td>Dinesh Roy</td>\n",
       "      <td>211</td>\n",
       "      <td>8537</td>\n",
       "      <td>112</td>\n",
       "      <td>16</td>\n",
       "      <td>0</td>\n",
       "    </tr>\n",
       "    <tr>\n",
       "      <th>7</th>\n",
       "      <td>8</td>\n",
       "      <td>Parmeshwar</td>\n",
       "      <td>245</td>\n",
       "      <td>9466</td>\n",
       "      <td>53</td>\n",
       "      <td>0</td>\n",
       "      <td>0</td>\n",
       "    </tr>\n",
       "    <tr>\n",
       "      <th>8</th>\n",
       "      <td>9</td>\n",
       "      <td>Ali Durrani</td>\n",
       "      <td>55</td>\n",
       "      <td>2756</td>\n",
       "      <td>12</td>\n",
       "      <td>26</td>\n",
       "      <td>0</td>\n",
       "    </tr>\n",
       "    <tr>\n",
       "      <th>9</th>\n",
       "      <td>10</td>\n",
       "      <td>Litesh Singh</td>\n",
       "      <td>89</td>\n",
       "      <td>1099</td>\n",
       "      <td>46</td>\n",
       "      <td>49</td>\n",
       "      <td>0</td>\n",
       "    </tr>\n",
       "  </tbody>\n",
       "</table>\n",
       "</div>"
      ],
      "text/plain": [
       "   sr.no           name  matches  runs  catches  wickets  stumpings\n",
       "0      1    Anil Dalpat      122  6755       56       12          0\n",
       "1      2   Rohan Kanhay      144  1256       76      178          0\n",
       "2      3  Avdhoot Dighe      265  8954      120        0          0\n",
       "3      4       Bahubali       10   756        6       11          3\n",
       "4      5      Leeladhar      234  2866      105      376          0\n",
       "5      6      Pradyumna      177  5877       47      122          0\n",
       "6      7     Dinesh Roy      211  8537      112       16          0\n",
       "7      8     Parmeshwar      245  9466       53        0          0\n",
       "8      9    Ali Durrani       55  2756       12       26          0\n",
       "9     10   Litesh Singh       89  1099       46       49          0"
      ]
     },
     "execution_count": 16,
     "metadata": {},
     "output_type": "execute_result"
    }
   ],
   "source": [
    "import pandas as pd\n",
    "df = pd.read_csv('H:/DataScience/cricket.csv')\n",
    "df"
   ]
  },
  {
   "cell_type": "markdown",
   "id": "ae911b9d-bc79-47e9-aaab-95c0a25cfad5",
   "metadata": {},
   "source": [
    "#### Read Names and runs"
   ]
  },
  {
   "cell_type": "code",
   "execution_count": 30,
   "id": "0a5ca1cc-be2a-4dd5-9d83-8e95d256f0b4",
   "metadata": {},
   "outputs": [
    {
     "data": {
      "text/html": [
       "<div>\n",
       "<style scoped>\n",
       "    .dataframe tbody tr th:only-of-type {\n",
       "        vertical-align: middle;\n",
       "    }\n",
       "\n",
       "    .dataframe tbody tr th {\n",
       "        vertical-align: top;\n",
       "    }\n",
       "\n",
       "    .dataframe thead th {\n",
       "        text-align: right;\n",
       "    }\n",
       "</style>\n",
       "<table border=\"1\" class=\"dataframe\">\n",
       "  <thead>\n",
       "    <tr style=\"text-align: right;\">\n",
       "      <th></th>\n",
       "      <th>name</th>\n",
       "      <th>runs</th>\n",
       "    </tr>\n",
       "  </thead>\n",
       "  <tbody>\n",
       "    <tr>\n",
       "      <th>0</th>\n",
       "      <td>Anil Dalpat</td>\n",
       "      <td>6755</td>\n",
       "    </tr>\n",
       "    <tr>\n",
       "      <th>1</th>\n",
       "      <td>Rohan Kanhay</td>\n",
       "      <td>1256</td>\n",
       "    </tr>\n",
       "    <tr>\n",
       "      <th>2</th>\n",
       "      <td>Avdhoot Dighe</td>\n",
       "      <td>8954</td>\n",
       "    </tr>\n",
       "    <tr>\n",
       "      <th>3</th>\n",
       "      <td>Bahubali</td>\n",
       "      <td>756</td>\n",
       "    </tr>\n",
       "    <tr>\n",
       "      <th>4</th>\n",
       "      <td>Leeladhar</td>\n",
       "      <td>2866</td>\n",
       "    </tr>\n",
       "    <tr>\n",
       "      <th>5</th>\n",
       "      <td>Pradyumna</td>\n",
       "      <td>5877</td>\n",
       "    </tr>\n",
       "    <tr>\n",
       "      <th>6</th>\n",
       "      <td>Dinesh Roy</td>\n",
       "      <td>8537</td>\n",
       "    </tr>\n",
       "    <tr>\n",
       "      <th>7</th>\n",
       "      <td>Parmeshwar</td>\n",
       "      <td>9466</td>\n",
       "    </tr>\n",
       "    <tr>\n",
       "      <th>8</th>\n",
       "      <td>Ali Durrani</td>\n",
       "      <td>2756</td>\n",
       "    </tr>\n",
       "    <tr>\n",
       "      <th>9</th>\n",
       "      <td>Litesh Singh</td>\n",
       "      <td>1099</td>\n",
       "    </tr>\n",
       "  </tbody>\n",
       "</table>\n",
       "</div>"
      ],
      "text/plain": [
       "            name  runs\n",
       "0    Anil Dalpat  6755\n",
       "1   Rohan Kanhay  1256\n",
       "2  Avdhoot Dighe  8954\n",
       "3       Bahubali   756\n",
       "4      Leeladhar  2866\n",
       "5      Pradyumna  5877\n",
       "6     Dinesh Roy  8537\n",
       "7     Parmeshwar  9466\n",
       "8    Ali Durrani  2756\n",
       "9   Litesh Singh  1099"
      ]
     },
     "execution_count": 30,
     "metadata": {},
     "output_type": "execute_result"
    }
   ],
   "source": [
    "df[['name', 'runs']]"
   ]
  },
  {
   "cell_type": "markdown",
   "id": "69578506-0ea0-4146-a4dc-0db826540dc2",
   "metadata": {},
   "source": [
    "#### Find total wickets taken by them"
   ]
  },
  {
   "cell_type": "code",
   "execution_count": 40,
   "id": "e12f4282-99f0-4853-ba08-88664bcfb64b",
   "metadata": {},
   "outputs": [
    {
     "name": "stdout",
     "output_type": "stream",
     "text": [
      "Total Wickets 48322\n"
     ]
    }
   ],
   "source": [
    "print(\"Total Wickets\", df['runs'].sum())\n"
   ]
  },
  {
   "cell_type": "markdown",
   "id": "57821a5a-bbc4-4d79-8c14-cf422683b63c",
   "metadata": {},
   "source": [
    "#### Find average of catches taken"
   ]
  },
  {
   "cell_type": "code",
   "execution_count": 45,
   "id": "52bf6f54-fd84-47bd-b2b0-d5a32b8aef57",
   "metadata": {},
   "outputs": [
    {
     "name": "stdout",
     "output_type": "stream",
     "text": [
      "Averages Catches 63.3\n"
     ]
    }
   ],
   "source": [
    "print(\"Averages Catches\", df['catches'].mean())"
   ]
  },
  {
   "cell_type": "markdown",
   "id": "b981d064-27b1-4e42-a463-10416c04897f",
   "metadata": {},
   "source": [
    "#### Find the name of wicketkeeper"
   ]
  },
  {
   "cell_type": "code",
   "execution_count": 48,
   "id": "c5bcda7b-7ace-43f5-b20f-da5db8d261f9",
   "metadata": {},
   "outputs": [
    {
     "name": "stdout",
     "output_type": "stream",
     "text": [
      "Wicket-keeper name is:  Bahubali\n"
     ]
    }
   ],
   "source": [
    "wicket_keeper = df[df['stumpings'] > 0].iloc[0]\n",
    "print(\"Wicket-keeper name is: \", wicket_keeper['name'])"
   ]
  },
  {
   "cell_type": "markdown",
   "id": "9c93952c-02c1-4e17-bb7d-a38bde85cc01",
   "metadata": {},
   "source": [
    "#### Name of bowler who played highest number of matches"
   ]
  },
  {
   "cell_type": "code",
   "execution_count": 54,
   "id": "05144a44-cae6-4107-aec8-682750bbc964",
   "metadata": {},
   "outputs": [
    {
     "name": "stdout",
     "output_type": "stream",
     "text": [
      "Bowler with most matches: Leeladhar\n"
     ]
    }
   ],
   "source": [
    "bowler = df[df['wickets'] > 0].sort_values(by='matches', ascending=False).iloc[0]\n",
    "print(\"Bowler with most matches:\", bowler['name'])"
   ]
  },
  {
   "cell_type": "markdown",
   "id": "5573f93e-1165-499c-bb5e-2ecd779ac443",
   "metadata": {},
   "source": [
    "#### Average of all the bowlers (total wickets / total matches for bowlers)"
   ]
  },
  {
   "cell_type": "code",
   "execution_count": 57,
   "id": "dab886e3-ed16-4836-ae7c-9a9a205287d1",
   "metadata": {},
   "outputs": [
    {
     "name": "stdout",
     "output_type": "stream",
     "text": [
      "Average wickets per match for all bowlers: 0.7581573896353166\n"
     ]
    }
   ],
   "source": [
    "bowlers = df[df['wickets'] > 0]\n",
    "average_bowling = bowlers['wickets'].sum() / bowlers['matches'].sum()\n",
    "print(\"Average wickets per match for all bowlers:\", average_bowling)"
   ]
  },
  {
   "cell_type": "markdown",
   "id": "125d3436-3be1-44a2-89a3-1b69c64a55e8",
   "metadata": {},
   "source": [
    "#### Name of the bowler with least bowling average "
   ]
  },
  {
   "cell_type": "code",
   "execution_count": 72,
   "id": "c2214bdd-df12-4aa0-a5e0-378d0ece512e",
   "metadata": {},
   "outputs": [
    {
     "name": "stdout",
     "output_type": "stream",
     "text": [
      "Bowler with the least bowling average: Avdhoot Dighe\n"
     ]
    }
   ],
   "source": [
    "df1 = pd.read_csv('H:/DataScience/cricket.csv')\n",
    "df1['bowling_average'] = df1['wickets'] / df1['matches']\n",
    "bowler_with_least_average = df1.sort_values(by='bowling_average').iloc[0]\n",
    "print(\"Bowler with the least bowling average:\", bowler_with_least_average['name'])"
   ]
  },
  {
   "cell_type": "markdown",
   "id": "7742a273-794b-453a-9204-1ee2f4d9796d",
   "metadata": {},
   "source": [
    "#### Print information about all players whose catches per match ratio is greater than 0.5, and store it in a csv file"
   ]
  },
  {
   "cell_type": "code",
   "execution_count": 79,
   "id": "11333529-0344-40d9-bf12-a24e5ea2a571",
   "metadata": {},
   "outputs": [
    {
     "name": "stdout",
     "output_type": "stream",
     "text": [
      "Players with catches per match ratio greater than 0.5:\n",
      "    sr.no          name  matches  runs  catches  wickets  stumpings  \\\n",
      "1      2  Rohan Kanhay      144  1256       76      178          0   \n",
      "3      4      Bahubali       10   756        6       11          3   \n",
      "6      7    Dinesh Roy      211  8537      112       16          0   \n",
      "9     10  Litesh Singh       89  1099       46       49          0   \n",
      "\n",
      "   bowling_average  catches_per_match  \n",
      "1         1.236111           0.527778  \n",
      "3         1.100000           0.600000  \n",
      "6         0.075829           0.530806  \n",
      "9         0.550562           0.516854  \n"
     ]
    }
   ],
   "source": [
    "df['catches_per_match'] = df['catches'] / df['matches']\n",
    "players_with_high_catches = df[df['catches_per_match'] > 0.5]\n",
    "print(\"Players with catches per match ratio greater than 0.5:\\n\", players_with_high_catches)\n",
    "players_with_high_catches.to_csv('Players_with_high_catches.csv', index=False)"
   ]
  },
  {
   "cell_type": "markdown",
   "id": "c7c55e42-bc7d-4e07-accb-3b284da6df02",
   "metadata": {},
   "source": [
    "####  Sort and print information about players by ascending order of runs"
   ]
  },
  {
   "cell_type": "code",
   "execution_count": 84,
   "id": "bfba6a7c-8734-44cd-b005-923e7f96d659",
   "metadata": {},
   "outputs": [
    {
     "name": "stdout",
     "output_type": "stream",
     "text": [
      "            name  runs\n",
      "3       Bahubali   756\n",
      "9   Litesh Singh  1099\n",
      "1   Rohan Kanhay  1256\n",
      "8    Ali Durrani  2756\n",
      "4      Leeladhar  2866\n",
      "5      Pradyumna  5877\n",
      "0    Anil Dalpat  6755\n",
      "6     Dinesh Roy  8537\n",
      "2  Avdhoot Dighe  8954\n",
      "7     Parmeshwar  9466\n"
     ]
    }
   ],
   "source": [
    "names_runs = df[['name', 'runs']]\n",
    "print( names_runs.sort_values(by='runs'))"
   ]
  },
  {
   "cell_type": "markdown",
   "id": "fe1da567-ee4e-4209-84dd-00e93b1bd840",
   "metadata": {},
   "source": [
    "####  Print the names of players whose wickets are greater than the matches"
   ]
  },
  {
   "cell_type": "code",
   "execution_count": 89,
   "id": "a5e9d0a7-15f1-4cbb-9610-da0bf345b395",
   "metadata": {},
   "outputs": [
    {
     "name": "stdout",
     "output_type": "stream",
     "text": [
      "1    Rohan Kanhay\n",
      "3        Bahubali\n",
      "4       Leeladhar\n",
      "Name: name, dtype: object\n"
     ]
    }
   ],
   "source": [
    "players_more_wickets_than_matches = df[df['wickets'] > df['matches']]['name']\n",
    "print(players_more_wickets_than_matches)"
   ]
  },
  {
   "cell_type": "code",
   "execution_count": null,
   "id": "6ecc139a-a2b8-4c1e-aaad-af72a7193aa3",
   "metadata": {},
   "outputs": [],
   "source": [
    "\n"
   ]
  },
  {
   "cell_type": "markdown",
   "id": "d539225c-5b51-44d9-a13f-5c3f0d52ab29",
   "metadata": {},
   "source": [
    "### Facebook"
   ]
  },
  {
   "cell_type": "code",
   "execution_count": 97,
   "id": "c5f6bae0-d2ab-433a-a8fb-347620f5a87d",
   "metadata": {},
   "outputs": [
    {
     "data": {
      "text/html": [
       "<div>\n",
       "<style scoped>\n",
       "    .dataframe tbody tr th:only-of-type {\n",
       "        vertical-align: middle;\n",
       "    }\n",
       "\n",
       "    .dataframe tbody tr th {\n",
       "        vertical-align: top;\n",
       "    }\n",
       "\n",
       "    .dataframe thead th {\n",
       "        text-align: right;\n",
       "    }\n",
       "</style>\n",
       "<table border=\"1\" class=\"dataframe\">\n",
       "  <thead>\n",
       "    <tr style=\"text-align: right;\">\n",
       "      <th></th>\n",
       "      <th>Page total likes</th>\n",
       "      <th>Type</th>\n",
       "      <th>Category</th>\n",
       "      <th>Post Month</th>\n",
       "      <th>Post Weekday</th>\n",
       "      <th>Post Hour</th>\n",
       "      <th>Paid</th>\n",
       "      <th>Lifetime Post Total Reach</th>\n",
       "      <th>Lifetime Post Total Impressions</th>\n",
       "      <th>Lifetime Engaged Users</th>\n",
       "      <th>Lifetime Post Consumers</th>\n",
       "      <th>Lifetime Post Consumptions</th>\n",
       "      <th>Lifetime Post Impressions by people who have liked your Page</th>\n",
       "      <th>Lifetime Post reach by people who like your Page</th>\n",
       "      <th>Lifetime People who have liked your Page and engaged with your post</th>\n",
       "      <th>comment</th>\n",
       "      <th>like</th>\n",
       "      <th>share</th>\n",
       "      <th>Total Interactions</th>\n",
       "    </tr>\n",
       "  </thead>\n",
       "  <tbody>\n",
       "    <tr>\n",
       "      <th>0</th>\n",
       "      <td>139441</td>\n",
       "      <td>Photo</td>\n",
       "      <td>2</td>\n",
       "      <td>12</td>\n",
       "      <td>4</td>\n",
       "      <td>3</td>\n",
       "      <td>0.0</td>\n",
       "      <td>2752</td>\n",
       "      <td>5091</td>\n",
       "      <td>178</td>\n",
       "      <td>109</td>\n",
       "      <td>159</td>\n",
       "      <td>3078</td>\n",
       "      <td>1640</td>\n",
       "      <td>119</td>\n",
       "      <td>4</td>\n",
       "      <td>79.0</td>\n",
       "      <td>17.0</td>\n",
       "      <td>100</td>\n",
       "    </tr>\n",
       "    <tr>\n",
       "      <th>1</th>\n",
       "      <td>139441</td>\n",
       "      <td>Status</td>\n",
       "      <td>2</td>\n",
       "      <td>12</td>\n",
       "      <td>3</td>\n",
       "      <td>10</td>\n",
       "      <td>0.0</td>\n",
       "      <td>10460</td>\n",
       "      <td>19057</td>\n",
       "      <td>1457</td>\n",
       "      <td>1361</td>\n",
       "      <td>1674</td>\n",
       "      <td>11710</td>\n",
       "      <td>6112</td>\n",
       "      <td>1108</td>\n",
       "      <td>5</td>\n",
       "      <td>130.0</td>\n",
       "      <td>29.0</td>\n",
       "      <td>164</td>\n",
       "    </tr>\n",
       "    <tr>\n",
       "      <th>2</th>\n",
       "      <td>139441</td>\n",
       "      <td>Photo</td>\n",
       "      <td>3</td>\n",
       "      <td>12</td>\n",
       "      <td>3</td>\n",
       "      <td>3</td>\n",
       "      <td>0.0</td>\n",
       "      <td>2413</td>\n",
       "      <td>4373</td>\n",
       "      <td>177</td>\n",
       "      <td>113</td>\n",
       "      <td>154</td>\n",
       "      <td>2812</td>\n",
       "      <td>1503</td>\n",
       "      <td>132</td>\n",
       "      <td>0</td>\n",
       "      <td>66.0</td>\n",
       "      <td>14.0</td>\n",
       "      <td>80</td>\n",
       "    </tr>\n",
       "    <tr>\n",
       "      <th>3</th>\n",
       "      <td>139441</td>\n",
       "      <td>Photo</td>\n",
       "      <td>2</td>\n",
       "      <td>12</td>\n",
       "      <td>2</td>\n",
       "      <td>10</td>\n",
       "      <td>1.0</td>\n",
       "      <td>50128</td>\n",
       "      <td>87991</td>\n",
       "      <td>2211</td>\n",
       "      <td>790</td>\n",
       "      <td>1119</td>\n",
       "      <td>61027</td>\n",
       "      <td>32048</td>\n",
       "      <td>1386</td>\n",
       "      <td>58</td>\n",
       "      <td>1572.0</td>\n",
       "      <td>147.0</td>\n",
       "      <td>1777</td>\n",
       "    </tr>\n",
       "    <tr>\n",
       "      <th>4</th>\n",
       "      <td>139441</td>\n",
       "      <td>Photo</td>\n",
       "      <td>2</td>\n",
       "      <td>12</td>\n",
       "      <td>2</td>\n",
       "      <td>3</td>\n",
       "      <td>0.0</td>\n",
       "      <td>7244</td>\n",
       "      <td>13594</td>\n",
       "      <td>671</td>\n",
       "      <td>410</td>\n",
       "      <td>580</td>\n",
       "      <td>6228</td>\n",
       "      <td>3200</td>\n",
       "      <td>396</td>\n",
       "      <td>19</td>\n",
       "      <td>325.0</td>\n",
       "      <td>49.0</td>\n",
       "      <td>393</td>\n",
       "    </tr>\n",
       "    <tr>\n",
       "      <th>...</th>\n",
       "      <td>...</td>\n",
       "      <td>...</td>\n",
       "      <td>...</td>\n",
       "      <td>...</td>\n",
       "      <td>...</td>\n",
       "      <td>...</td>\n",
       "      <td>...</td>\n",
       "      <td>...</td>\n",
       "      <td>...</td>\n",
       "      <td>...</td>\n",
       "      <td>...</td>\n",
       "      <td>...</td>\n",
       "      <td>...</td>\n",
       "      <td>...</td>\n",
       "      <td>...</td>\n",
       "      <td>...</td>\n",
       "      <td>...</td>\n",
       "      <td>...</td>\n",
       "      <td>...</td>\n",
       "    </tr>\n",
       "    <tr>\n",
       "      <th>495</th>\n",
       "      <td>85093</td>\n",
       "      <td>Photo</td>\n",
       "      <td>3</td>\n",
       "      <td>1</td>\n",
       "      <td>7</td>\n",
       "      <td>2</td>\n",
       "      <td>0.0</td>\n",
       "      <td>4684</td>\n",
       "      <td>7536</td>\n",
       "      <td>733</td>\n",
       "      <td>708</td>\n",
       "      <td>985</td>\n",
       "      <td>4750</td>\n",
       "      <td>2876</td>\n",
       "      <td>392</td>\n",
       "      <td>5</td>\n",
       "      <td>53.0</td>\n",
       "      <td>26.0</td>\n",
       "      <td>84</td>\n",
       "    </tr>\n",
       "    <tr>\n",
       "      <th>496</th>\n",
       "      <td>81370</td>\n",
       "      <td>Photo</td>\n",
       "      <td>2</td>\n",
       "      <td>1</td>\n",
       "      <td>5</td>\n",
       "      <td>8</td>\n",
       "      <td>0.0</td>\n",
       "      <td>3480</td>\n",
       "      <td>6229</td>\n",
       "      <td>537</td>\n",
       "      <td>508</td>\n",
       "      <td>687</td>\n",
       "      <td>3961</td>\n",
       "      <td>2104</td>\n",
       "      <td>301</td>\n",
       "      <td>0</td>\n",
       "      <td>53.0</td>\n",
       "      <td>22.0</td>\n",
       "      <td>75</td>\n",
       "    </tr>\n",
       "    <tr>\n",
       "      <th>497</th>\n",
       "      <td>81370</td>\n",
       "      <td>Photo</td>\n",
       "      <td>1</td>\n",
       "      <td>1</td>\n",
       "      <td>5</td>\n",
       "      <td>2</td>\n",
       "      <td>0.0</td>\n",
       "      <td>3778</td>\n",
       "      <td>7216</td>\n",
       "      <td>625</td>\n",
       "      <td>572</td>\n",
       "      <td>795</td>\n",
       "      <td>4742</td>\n",
       "      <td>2388</td>\n",
       "      <td>363</td>\n",
       "      <td>4</td>\n",
       "      <td>93.0</td>\n",
       "      <td>18.0</td>\n",
       "      <td>115</td>\n",
       "    </tr>\n",
       "    <tr>\n",
       "      <th>498</th>\n",
       "      <td>81370</td>\n",
       "      <td>Photo</td>\n",
       "      <td>3</td>\n",
       "      <td>1</td>\n",
       "      <td>4</td>\n",
       "      <td>11</td>\n",
       "      <td>0.0</td>\n",
       "      <td>4156</td>\n",
       "      <td>7564</td>\n",
       "      <td>626</td>\n",
       "      <td>574</td>\n",
       "      <td>832</td>\n",
       "      <td>4534</td>\n",
       "      <td>2452</td>\n",
       "      <td>370</td>\n",
       "      <td>7</td>\n",
       "      <td>91.0</td>\n",
       "      <td>38.0</td>\n",
       "      <td>136</td>\n",
       "    </tr>\n",
       "    <tr>\n",
       "      <th>499</th>\n",
       "      <td>81370</td>\n",
       "      <td>Photo</td>\n",
       "      <td>2</td>\n",
       "      <td>1</td>\n",
       "      <td>4</td>\n",
       "      <td>4</td>\n",
       "      <td>NaN</td>\n",
       "      <td>4188</td>\n",
       "      <td>7292</td>\n",
       "      <td>564</td>\n",
       "      <td>524</td>\n",
       "      <td>743</td>\n",
       "      <td>3861</td>\n",
       "      <td>2200</td>\n",
       "      <td>316</td>\n",
       "      <td>0</td>\n",
       "      <td>91.0</td>\n",
       "      <td>28.0</td>\n",
       "      <td>119</td>\n",
       "    </tr>\n",
       "  </tbody>\n",
       "</table>\n",
       "<p>500 rows × 19 columns</p>\n",
       "</div>"
      ],
      "text/plain": [
       "     Page total likes    Type  Category  Post Month  Post Weekday  Post Hour  \\\n",
       "0              139441   Photo         2          12             4          3   \n",
       "1              139441  Status         2          12             3         10   \n",
       "2              139441   Photo         3          12             3          3   \n",
       "3              139441   Photo         2          12             2         10   \n",
       "4              139441   Photo         2          12             2          3   \n",
       "..                ...     ...       ...         ...           ...        ...   \n",
       "495             85093   Photo         3           1             7          2   \n",
       "496             81370   Photo         2           1             5          8   \n",
       "497             81370   Photo         1           1             5          2   \n",
       "498             81370   Photo         3           1             4         11   \n",
       "499             81370   Photo         2           1             4          4   \n",
       "\n",
       "     Paid  Lifetime Post Total Reach  Lifetime Post Total Impressions  \\\n",
       "0     0.0                       2752                             5091   \n",
       "1     0.0                      10460                            19057   \n",
       "2     0.0                       2413                             4373   \n",
       "3     1.0                      50128                            87991   \n",
       "4     0.0                       7244                            13594   \n",
       "..    ...                        ...                              ...   \n",
       "495   0.0                       4684                             7536   \n",
       "496   0.0                       3480                             6229   \n",
       "497   0.0                       3778                             7216   \n",
       "498   0.0                       4156                             7564   \n",
       "499   NaN                       4188                             7292   \n",
       "\n",
       "     Lifetime Engaged Users  Lifetime Post Consumers  \\\n",
       "0                       178                      109   \n",
       "1                      1457                     1361   \n",
       "2                       177                      113   \n",
       "3                      2211                      790   \n",
       "4                       671                      410   \n",
       "..                      ...                      ...   \n",
       "495                     733                      708   \n",
       "496                     537                      508   \n",
       "497                     625                      572   \n",
       "498                     626                      574   \n",
       "499                     564                      524   \n",
       "\n",
       "     Lifetime Post Consumptions  \\\n",
       "0                           159   \n",
       "1                          1674   \n",
       "2                           154   \n",
       "3                          1119   \n",
       "4                           580   \n",
       "..                          ...   \n",
       "495                         985   \n",
       "496                         687   \n",
       "497                         795   \n",
       "498                         832   \n",
       "499                         743   \n",
       "\n",
       "     Lifetime Post Impressions by people who have liked your Page  \\\n",
       "0                                                 3078              \n",
       "1                                                11710              \n",
       "2                                                 2812              \n",
       "3                                                61027              \n",
       "4                                                 6228              \n",
       "..                                                 ...              \n",
       "495                                               4750              \n",
       "496                                               3961              \n",
       "497                                               4742              \n",
       "498                                               4534              \n",
       "499                                               3861              \n",
       "\n",
       "     Lifetime Post reach by people who like your Page  \\\n",
       "0                                                1640   \n",
       "1                                                6112   \n",
       "2                                                1503   \n",
       "3                                               32048   \n",
       "4                                                3200   \n",
       "..                                                ...   \n",
       "495                                              2876   \n",
       "496                                              2104   \n",
       "497                                              2388   \n",
       "498                                              2452   \n",
       "499                                              2200   \n",
       "\n",
       "     Lifetime People who have liked your Page and engaged with your post  \\\n",
       "0                                                  119                     \n",
       "1                                                 1108                     \n",
       "2                                                  132                     \n",
       "3                                                 1386                     \n",
       "4                                                  396                     \n",
       "..                                                 ...                     \n",
       "495                                                392                     \n",
       "496                                                301                     \n",
       "497                                                363                     \n",
       "498                                                370                     \n",
       "499                                                316                     \n",
       "\n",
       "     comment    like  share  Total Interactions  \n",
       "0          4    79.0   17.0                 100  \n",
       "1          5   130.0   29.0                 164  \n",
       "2          0    66.0   14.0                  80  \n",
       "3         58  1572.0  147.0                1777  \n",
       "4         19   325.0   49.0                 393  \n",
       "..       ...     ...    ...                 ...  \n",
       "495        5    53.0   26.0                  84  \n",
       "496        0    53.0   22.0                  75  \n",
       "497        4    93.0   18.0                 115  \n",
       "498        7    91.0   38.0                 136  \n",
       "499        0    91.0   28.0                 119  \n",
       "\n",
       "[500 rows x 19 columns]"
      ]
     },
     "execution_count": 97,
     "metadata": {},
     "output_type": "execute_result"
    }
   ],
   "source": [
    "df = pd.read_csv('H:/DataScience/fb.csv')\n",
    "df"
   ]
  },
  {
   "cell_type": "markdown",
   "id": "4c846852-9ca2-465e-b29b-a47222d6334d",
   "metadata": {},
   "source": [
    "#### Count number of posts  paid and unpaid"
   ]
  },
  {
   "cell_type": "code",
   "execution_count": 100,
   "id": "8728d315-7928-42f6-9fcc-ff0317cadc4a",
   "metadata": {},
   "outputs": [
    {
     "name": "stdout",
     "output_type": "stream",
     "text": [
      "Number of posts which are Paid (1): 139\n",
      "Number of posts which are Unpaid (0)): 360\n"
     ]
    }
   ],
   "source": [
    "paid_counts = df['Paid'].value_counts()\n",
    "print(\"Number of posts which are Paid (1):\", paid_counts.get(1, 0))\n",
    "print(\"Number of posts which are Unpaid (0)):\", paid_counts.get(0, 0))"
   ]
  },
  {
   "cell_type": "markdown",
   "id": "aede1ab5-c113-4006-8141-05d663f7ec42",
   "metadata": {},
   "source": [
    "#### Display only Page type, Month, likes, comments and shares"
   ]
  },
  {
   "cell_type": "code",
   "execution_count": 103,
   "id": "63402390-8ab1-4a59-85bf-8fb4b42ecc0a",
   "metadata": {},
   "outputs": [
    {
     "name": "stdout",
     "output_type": "stream",
     "text": [
      "       Type  Post Month    like  comment  share\n",
      "0     Photo          12    79.0        4   17.0\n",
      "1    Status          12   130.0        5   29.0\n",
      "2     Photo          12    66.0        0   14.0\n",
      "3     Photo          12  1572.0       58  147.0\n",
      "4     Photo          12   325.0       19   49.0\n",
      "..      ...         ...     ...      ...    ...\n",
      "495   Photo           1    53.0        5   26.0\n",
      "496   Photo           1    53.0        0   22.0\n",
      "497   Photo           1    93.0        4   18.0\n",
      "498   Photo           1    91.0        7   38.0\n",
      "499   Photo           1    91.0        0   28.0\n",
      "\n",
      "[500 rows x 5 columns]\n"
     ]
    }
   ],
   "source": [
    "print( df[['Type', 'Post Month', 'like', 'comment', 'share']])"
   ]
  },
  {
   "cell_type": "markdown",
   "id": "6216df66-ea40-4ef2-96eb-972f6a9c84d9",
   "metadata": {},
   "source": [
    "#### Find the average number of likes to the post in September month"
   ]
  },
  {
   "cell_type": "code",
   "execution_count": 106,
   "id": "5f14e6ba-dc64-48e7-85ce-e8b04746a4d1",
   "metadata": {},
   "outputs": [
    {
     "name": "stdout",
     "output_type": "stream",
     "text": [
      "Average Likes in September: 230.94444444444446\n"
     ]
    }
   ],
   "source": [
    "print(\"Average Likes in September:\", df[df['Post Month'] == 9]['like'].mean())"
   ]
  },
  {
   "cell_type": "markdown",
   "id": "6332a475-70c8-46b6-b4f9-7115b5734a1e",
   "metadata": {},
   "source": [
    "####  Print the information about the posts which are links"
   ]
  },
  {
   "cell_type": "code",
   "execution_count": 111,
   "id": "a58648ab-82c3-4539-bb2f-6fa8ff34f853",
   "metadata": {},
   "outputs": [
    {
     "name": "stdout",
     "output_type": "stream",
     "text": [
      "     Page total likes  Type  Category  Post Month  Post Weekday  Post Hour  \\\n",
      "22             138414  Link         1          12             7         10   \n",
      "41             138895  Link         1          12             6          3   \n",
      "43             138353  Link         1          12             5          3   \n",
      "45             138353  Link         1          12             4          3   \n",
      "47             138353  Link         1          12             3          2   \n",
      "49             138353  Link         1          12             2          2   \n",
      "86             137177  Link         1          11             4          3   \n",
      "136            136393  Link         1          10             5         10   \n",
      "140            136013  Link         1          10             4          3   \n",
      "149            135713  Link         1          10             6         11   \n",
      "344            117764  Link         1           5             1          2   \n",
      "372            113028  Link         1           4             5          7   \n",
      "403            107907  Link         1           4             2          6   \n",
      "408            106928  Link         1           4             6          4   \n",
      "425            102112  Link         3           3             1          3   \n",
      "430            100732  Link         1           3             7         14   \n",
      "438             98195  Link         2           3             6          6   \n",
      "470             91437  Link         1           2             3         13   \n",
      "477             86909  Link         1           1             6          4   \n",
      "481             86491  Link         1           1             4          4   \n",
      "485             86491  Link         1           1             2          2   \n",
      "492             85979  Link         1           1             5         11   \n",
      "\n",
      "     Paid  Lifetime Post Total Reach  Lifetime Post Total Impressions  \\\n",
      "22    0.0                       3454                             6853   \n",
      "41    1.0                      18480                            28438   \n",
      "43    1.0                       2645                             4270   \n",
      "45    1.0                       7968                            13023   \n",
      "47    0.0                       1925                             3481   \n",
      "49    0.0                       1536                             3094   \n",
      "86    0.0                      21176                            54779   \n",
      "136   0.0                       4664                             9463   \n",
      "140   0.0                      68992                           229733   \n",
      "149   1.0                       3616                             6887   \n",
      "344   0.0                      12540                            19301   \n",
      "372   1.0                      35360                            45260   \n",
      "403   0.0                      70912                            94172   \n",
      "408   0.0                      34192                            42092   \n",
      "425   0.0                       6876                            10885   \n",
      "430   0.0                       2933                             5144   \n",
      "438   0.0                       5730                            10083   \n",
      "470   0.0                       9356                            14986   \n",
      "477   0.0                      39600                             7927   \n",
      "481   1.0                       4938                             7910   \n",
      "485   0.0                       5168                             8371   \n",
      "492   0.0                      45920                             5808   \n",
      "\n",
      "     Lifetime Engaged Users  Lifetime Post Consumers  \\\n",
      "22                      118                      104   \n",
      "41                      517                      366   \n",
      "43                      134                      109   \n",
      "45                      206                      158   \n",
      "47                       97                       83   \n",
      "49                       84                       76   \n",
      "86                      330                      228   \n",
      "136                     204                      182   \n",
      "140                    1032                      975   \n",
      "149                     111                       90   \n",
      "344                     344                      322   \n",
      "372                     339                      325   \n",
      "403                    1374                     1106   \n",
      "408                     338                      322   \n",
      "425                     282                      245   \n",
      "430                      24                       23   \n",
      "438                     103                       71   \n",
      "470                     448                      381   \n",
      "477                     572                      496   \n",
      "481                      66                       63   \n",
      "485                      66                       59   \n",
      "492                     753                      655   \n",
      "\n",
      "     Lifetime Post Consumptions  \\\n",
      "22                          130   \n",
      "41                          460   \n",
      "43                          170   \n",
      "45                          223   \n",
      "47                          126   \n",
      "49                           99   \n",
      "86                          329   \n",
      "136                         251   \n",
      "140                        1345   \n",
      "149                         118   \n",
      "344                         396   \n",
      "372                         477   \n",
      "403                        1267   \n",
      "408                         389   \n",
      "425                         337   \n",
      "430                          26   \n",
      "438                          97   \n",
      "470                         505   \n",
      "477                         581   \n",
      "481                          70   \n",
      "485                          71   \n",
      "492                         763   \n",
      "\n",
      "     Lifetime Post Impressions by people who have liked your Page  \\\n",
      "22                                                6282              \n",
      "41                                               12078              \n",
      "43                                                2330              \n",
      "45                                                6734              \n",
      "47                                                2307              \n",
      "49                                                2903              \n",
      "86                                               13858              \n",
      "136                                               7196              \n",
      "140                                              17842              \n",
      "149                                               4263              \n",
      "344                                              16914              \n",
      "372                                               9105              \n",
      "403                                              42338              \n",
      "408                                              22907              \n",
      "425                                               9403              \n",
      "430                                               3972              \n",
      "438                                               8964              \n",
      "470                                              13919              \n",
      "477                                              12522              \n",
      "481                                               6625              \n",
      "485                                               7041              \n",
      "492                                              15766              \n",
      "\n",
      "     Lifetime Post reach by people who like your Page  \\\n",
      "22                                               3100   \n",
      "41                                               6752   \n",
      "43                                               1377   \n",
      "45                                               3492   \n",
      "47                                               1180   \n",
      "49                                               1407   \n",
      "86                                               5248   \n",
      "136                                              3324   \n",
      "140                                              8032   \n",
      "149                                              2138   \n",
      "344                                             11008   \n",
      "372                                              5472   \n",
      "403                                             27232   \n",
      "408                                             16464   \n",
      "425                                              5752   \n",
      "430                                              2012   \n",
      "438                                              4830   \n",
      "470                                              8460   \n",
      "477                                              8176   \n",
      "481                                              3804   \n",
      "485                                              3996   \n",
      "492                                             10720   \n",
      "\n",
      "     Lifetime People who have liked your Page and engaged with your post  \\\n",
      "22                                                 106                     \n",
      "41                                                 319                     \n",
      "43                                                 101                     \n",
      "45                                                 138                     \n",
      "47                                                  77                     \n",
      "49                                                  76                     \n",
      "86                                                 185                     \n",
      "136                                                173                     \n",
      "140                                                635                     \n",
      "149                                                 93                     \n",
      "344                                                289                     \n",
      "372                                                156                     \n",
      "403                                                788                     \n",
      "408                                                230                     \n",
      "425                                                259                     \n",
      "430                                                 19                     \n",
      "438                                                 92                     \n",
      "470                                                392                     \n",
      "477                                                167                     \n",
      "481                                                 59                     \n",
      "485                                                 58                     \n",
      "492                                                220                     \n",
      "\n",
      "     comment   like  share  Total Interactions  \n",
      "22         0   16.0    2.0                  18  \n",
      "41         6  187.0   18.0                 211  \n",
      "43         7   29.0   10.0                  46  \n",
      "45         4   57.0   10.0                  71  \n",
      "47         6   18.0    8.0                  32  \n",
      "49         1   12.0    1.0                  14  \n",
      "86         2  130.0   31.0                 163  \n",
      "136        0   32.0   16.0                  48  \n",
      "140       15  143.0   44.0                 202  \n",
      "149        0   24.0   11.0                  35  \n",
      "344        3   46.0   14.0                  63  \n",
      "372        7   38.0   11.0                  56  \n",
      "403        1  379.0   40.0                 420  \n",
      "408        1   36.0    7.0                  44  \n",
      "425        2   68.0   15.0                  85  \n",
      "430        0    6.0    0.0                   6  \n",
      "438        2   32.0   15.0                  49  \n",
      "470        4  114.0   13.0                 131  \n",
      "477        1  101.0    5.0                 107  \n",
      "481        0    5.0    2.0                   7  \n",
      "485        0   12.0    2.0                  14  \n",
      "492        0  128.0    9.0                 137  \n"
     ]
    }
   ],
   "source": [
    "print( df[df['Type'] == 'Link'])"
   ]
  },
  {
   "cell_type": "markdown",
   "id": "21bab9ff-a981-46a1-95ad-95866f6b7a3c",
   "metadata": {},
   "source": [
    "#### How many total shares are present for the video posts?"
   ]
  },
  {
   "cell_type": "code",
   "execution_count": 114,
   "id": "645ebc84-6f97-47e7-96e4-228167ecbe85",
   "metadata": {},
   "outputs": [
    {
     "name": "stdout",
     "output_type": "stream",
     "text": [
      "Total Shares for Video Posts: 365.0\n"
     ]
    }
   ],
   "source": [
    "total_video_shares = df[df['Type'] == 'Video']['share'].sum()\n",
    "print(\"Total Shares for Video Posts:\", total_video_shares)"
   ]
  },
  {
   "cell_type": "markdown",
   "id": "1f75967e-bb08-4995-a852-e50d34da5b58",
   "metadata": {},
   "source": [
    "#### hour of the day maximum posts are posted"
   ]
  },
  {
   "cell_type": "code",
   "execution_count": 117,
   "id": "0be0a5fb-b63e-46b7-849f-176d65509125",
   "metadata": {},
   "outputs": [
    {
     "name": "stdout",
     "output_type": "stream",
     "text": [
      "Hour of the Day with Maximum Posts: 3\n"
     ]
    }
   ],
   "source": [
    "print(\"Hour of the Day with Maximum Posts:\", df['Post Hour'].value_counts().idxmax())"
   ]
  },
  {
   "cell_type": "markdown",
   "id": "dcfdb916-333c-4d11-ac39-ce5ba782f864",
   "metadata": {},
   "source": [
    "#### Day of October, maximum number of interactions are found"
   ]
  },
  {
   "cell_type": "code",
   "execution_count": 120,
   "id": "319a7600-b6fe-443f-a941-1ab44d09d017",
   "metadata": {},
   "outputs": [
    {
     "name": "stdout",
     "output_type": "stream",
     "text": [
      "Day in October with Maximum Interactions: 4\n"
     ]
    }
   ],
   "source": [
    "october_posts = df[(df['Post Month'] == 10)]\n",
    "max_interaction_day = october_posts.loc[october_posts['Total Interactions'].idxmax()]['Post Weekday']\n",
    "print(\"Day in October with Maximum Interactions:\", max_interaction_day)"
   ]
  },
  {
   "cell_type": "markdown",
   "id": "a8494fb5-caeb-4731-b147-9d43b900bcde",
   "metadata": {},
   "source": [
    "#### Print the information of the posts where likes are above 200 and shares are above 30\n"
   ]
  },
  {
   "cell_type": "code",
   "execution_count": 125,
   "id": "a9ebf8ea-aa82-422f-957e-9c0d8dbb4bee",
   "metadata": {},
   "outputs": [
    {
     "name": "stdout",
     "output_type": "stream",
     "text": [
      "     Page total likes    Type  Category  Post Month  Post Weekday  Post Hour  \\\n",
      "3              139441   Photo         2          12             2         10   \n",
      "4              139441   Photo         2          12             2          3   \n",
      "26             138458  Status         2          12             5         11   \n",
      "28             138895   Photo         2          12             5          3   \n",
      "38             138895  Status         2          12             7          9   \n",
      "..                ...     ...       ...         ...           ...        ...   \n",
      "464             92079   Photo         1           2             6         13   \n",
      "468             91651   Photo         1           2             4         12   \n",
      "476             86909   Photo         1           1             6         10   \n",
      "480             86909   Photo         2           1             4         11   \n",
      "488             85979   Photo         3           1             7         10   \n",
      "\n",
      "     Paid  Lifetime Post Total Reach  Lifetime Post Total Impressions  \\\n",
      "3     1.0                      50128                            87991   \n",
      "4     0.0                       7244                            13594   \n",
      "26    0.0                      19552                            34143   \n",
      "28    0.0                       9560                            18264   \n",
      "38    0.0                      17576                            33058   \n",
      "..    ...                        ...                              ...   \n",
      "464   0.0                     158208                           453213   \n",
      "468   0.0                      15288                            31467   \n",
      "476   1.0                      37088                            10966   \n",
      "480   0.0                      11484                            20696   \n",
      "488   0.0                       9700                            17442   \n",
      "\n",
      "     Lifetime Engaged Users  Lifetime Post Consumers  \\\n",
      "3                      2211                      790   \n",
      "4                       671                      410   \n",
      "26                     2806                     2531   \n",
      "28                      973                      559   \n",
      "38                     5352                     5202   \n",
      "..                      ...                      ...   \n",
      "464                    2482                     2319   \n",
      "468                    1573                     1401   \n",
      "476                    2728                     2288   \n",
      "480                    1762                     1635   \n",
      "488                    1407                     1271   \n",
      "\n",
      "     Lifetime Post Consumptions  \\\n",
      "3                          1119   \n",
      "4                           580   \n",
      "26                         3420   \n",
      "28                          885   \n",
      "38                         6547   \n",
      "..                          ...   \n",
      "464                        3412   \n",
      "468                        2110   \n",
      "476                        3183   \n",
      "480                        2741   \n",
      "488                        2007   \n",
      "\n",
      "     Lifetime Post Impressions by people who have liked your Page  \\\n",
      "3                                                61027              \n",
      "4                                                 6228              \n",
      "26                                               17748              \n",
      "28                                                9217              \n",
      "38                                               23135              \n",
      "..                                                 ...              \n",
      "464                                              81938              \n",
      "468                                              28247              \n",
      "476                                              66311              \n",
      "480                                               8774              \n",
      "488                                               8872              \n",
      "\n",
      "     Lifetime Post reach by people who like your Page  \\\n",
      "3                                               32048   \n",
      "4                                                3200   \n",
      "26                                               9824   \n",
      "28                                               4748   \n",
      "38                                              11792   \n",
      "..                                                ...   \n",
      "464                                             20608   \n",
      "468                                             13312   \n",
      "476                                             34352   \n",
      "480                                              5124   \n",
      "488                                              4876   \n",
      "\n",
      "     Lifetime People who have liked your Page and engaged with your post  \\\n",
      "3                                                 1386                     \n",
      "4                                                  396                     \n",
      "26                                                1779                     \n",
      "28                                                 621                     \n",
      "38                                                4104                     \n",
      "..                                                 ...                     \n",
      "464                                               1034                     \n",
      "468                                               1052                     \n",
      "476                                               2021                     \n",
      "480                                                722                     \n",
      "488                                                660                     \n",
      "\n",
      "     comment    like  share  Total Interactions  \n",
      "3         58  1572.0  147.0                1777  \n",
      "4         19   325.0   49.0                 393  \n",
      "26        10   412.0   72.0                 494  \n",
      "28        36   523.0   63.0                 622  \n",
      "38        11   227.0   31.0                 269  \n",
      "..       ...     ...    ...                 ...  \n",
      "464        9   268.0   36.0                 313  \n",
      "468        5   264.0   36.0                 305  \n",
      "476        7   579.0   47.0                 633  \n",
      "480       56   360.0   99.0                 515  \n",
      "488       21   277.0   80.0                 378  \n",
      "\n",
      "[88 rows x 19 columns]\n"
     ]
    }
   ],
   "source": [
    "print( df[(df['like'] > 200) & (df['share'] > 30)])"
   ]
  },
  {
   "cell_type": "markdown",
   "id": "82d5992f-3736-4f38-9219-0dcde5568c7a",
   "metadata": {},
   "source": [
    "#### type of posts are posted maximum number of times in November month"
   ]
  },
  {
   "cell_type": "code",
   "execution_count": 128,
   "id": "f39d8b74-d91b-4efb-baad-009372dc3b0b",
   "metadata": {},
   "outputs": [
    {
     "name": "stdout",
     "output_type": "stream",
     "text": [
      "Most Common Post Type in November: Photo\n"
     ]
    }
   ],
   "source": [
    "november_posts = df[df['Post Month'] == 11]\n",
    "most_common_type_november = november_posts['Type'].value_counts().idxmax()\n",
    "print(\"Most Common Post Type in November:\", most_common_type_november)"
   ]
  },
  {
   "cell_type": "markdown",
   "id": "592e733a-e1b0-4ac8-b7a0-5456658eb3d2",
   "metadata": {},
   "source": [
    "#### average and median of interactions for the paid (1) posts"
   ]
  },
  {
   "cell_type": "code",
   "execution_count": 131,
   "id": "fddacb22-ea78-4cc8-a19d-843e5f645cba",
   "metadata": {},
   "outputs": [
    {
     "name": "stdout",
     "output_type": "stream",
     "text": [
      "Average Interactions for Paid Posts: 278.23021582733816\n",
      "Median Interactions for Paid Posts: 158.0\n"
     ]
    }
   ],
   "source": [
    "paid_posts = df[df['Paid'] == 1]\n",
    "print(\"Average Interactions for Paid Posts:\", paid_posts['Total Interactions'].mean())\n",
    "print(\"Median Interactions for Paid Posts:\", paid_posts['Total Interactions'].median())"
   ]
  },
  {
   "cell_type": "code",
   "execution_count": null,
   "id": "36d0f6ec-c287-4520-847f-7b6cccb32b58",
   "metadata": {},
   "outputs": [],
   "source": []
  }
 ],
 "metadata": {
  "kernelspec": {
   "display_name": "Python 3 (ipykernel)",
   "language": "python",
   "name": "python3"
  },
  "language_info": {
   "codemirror_mode": {
    "name": "ipython",
    "version": 3
   },
   "file_extension": ".py",
   "mimetype": "text/x-python",
   "name": "python",
   "nbconvert_exporter": "python",
   "pygments_lexer": "ipython3",
   "version": "3.12.4"
  }
 },
 "nbformat": 4,
 "nbformat_minor": 5
}
